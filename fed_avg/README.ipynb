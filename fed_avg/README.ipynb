{
 "cells": [
  {
   "cell_type": "markdown",
   "id": "65912bd6-a867-4be3-9647-f4679cec6a6d",
   "metadata": {
    "tags": []
   },
   "source": [
    "# FedAvg 联邦学习\n",
    "\n",
    "## 如何构建一个 FedAvg 联邦学习任务：\n",
    "\n",
    "FedAvg 算法的原始论文链接：[[1602.05629] Communication-Efficient Learning of Deep Networks from Decentralized Data (arxiv.org)](https://arxiv.org/abs/1602.05629)\n",
    "\n",
    "我们为你提供了一个示例，以帮助你一步一步的构建起自己的第一个 FedAvg 联邦学习任务。[快去看看吧。](FedAvg.ipynb)\n",
    "\n",
    "---\n",
    "\n",
    "## 如何构建一个参数安全的 FedAvg 联邦学习任务：\n",
    "\n",
    "安全聚合 FedAvg 算法的原始论文链接：[Practical Secure Aggregation for Privacy-Preserving Machine Learning](https://eprint.iacr.org/2017/281.pdf)\n",
    "\n",
    "为了更好地理解安全聚合 FedAvg 算法，我们强烈建议你在理解原始 FedAvg 算法的基础上再进一步学习。以下的示例也是基于 FedAvg 算法示例的基础上所做的修改和扩展。因此你应当先完整阅读 [FedAvg 算法示例](FedAvg.ipynb)，然后再进入[安全聚合 FedAvg 算法示例](SecureFedAvg.ipynb)。\n",
    "\n",
    "---\n",
    "\n",
    "## 如何使用差分隐私技术构建一个隐私安全的 FedAvg 联邦学习任务：\n",
    "DP-FedAvg 算法的原始论文链接：[Learning Differentially Private Recurrent Language Models](https://arxiv.org/abs/1710.06963)\n",
    "\n",
    "为了更好地理解 DP-FedAvg 算法，我们强烈建议你在理解原始 FedAvg 算法的基础上再进一步学习。以下的示例也是基于 FedAvg 算法示例的基础上所做的修改和扩展。因此你应当先完整阅读 [FedAvg 算法示例](FedAvg.ipynb)，然后再进入 [DP-FedAvg 算法示例](DPFedAvg.ipynb)\n"
   ]
  },
  {
   "cell_type": "code",
   "execution_count": null,
   "id": "1f7c89b9-b073-4af7-805d-95e1b0aaf63f",
   "metadata": {},
   "outputs": [],
   "source": []
  }
 ],
 "metadata": {
  "kernelspec": {
   "display_name": "Python 3 (ipykernel)",
   "language": "python",
   "name": "python3"
  },
  "language_info": {
   "codemirror_mode": {
    "name": "ipython",
    "version": 3
   },
   "file_extension": ".py",
   "mimetype": "text/x-python",
   "name": "python",
   "nbconvert_exporter": "python",
   "pygments_lexer": "ipython3",
   "version": "3.10.6"
  }
 },
 "nbformat": 4,
 "nbformat_minor": 5
}
