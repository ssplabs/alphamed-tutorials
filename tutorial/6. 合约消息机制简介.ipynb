{
 "cells": [
  {
   "cell_type": "markdown",
   "metadata": {},
   "source": [
    "# 合约消息机制及自定义合约消息\n",
    "\n",
    "合约消息机制用于 AlphaMed 平台上不同节点之间互相传递信号，比如控制信息、状态信号等数据量比较小的场景。在管理控制场景中，多用于与平台其它管理模块的交互。在需要多个参与方配合计算的场景中，多用于控制计算流程、状态切换、传递核心参数等操作。\n",
    "\n",
    "## 合约消息机制简介\n",
    "\n",
    "目前 AlphaMed 平台上的合约分为两种：\n",
    "- 系统级合约，主要用于任务管理器管理、控制任务流程，比如启动任务、关闭任务、上传任务运行结果等。系统级合约由 BASS 层预定义，算法模块在任务的必要阶段调用接口，不能定制接口行为。\n",
    "- 任务级合约，主要用于指定任务内的相关节点互相协同，比如任务内节点同步状态等。任务级合约内部携带的文本内容可以不同，通过不同的文本内容传递不同的信息。任务级合约只在指定的任务中有效，其它任务中的节点，即使是同一批节点，也无法收到当前任务的任何消息。\n",
    "\n",
    "## 系统级合约接口\n",
    "\n",
    "系统级合约分为两类：BASS 系统合约和任务运行时服务合约。\n",
    "\n",
    "BASS 系统合约可以理解为全局性的控制合约。BASS 系统合约的主要使用场景是：控制学习任务的使用者通过代码触发相关操作，所以在接口调用时需要指定对应任务的 `task_id`，`task_id` 不同操作对象就不同。因此其操作对象不限于某一个特定的任务。\n",
    "\n",
    "任务运行时服务合约可以理解为处理特定任务内部的控制消息。任务运行时服务合约的使用对象是调度器实现代码，由代码逻辑控制，不由人工控制。所以合约工具初始化时需要指定所属任务的 `task_id`，初始化完成后将与此任务绑定，只针对此任务的上下文操作。\n",
    "\n",
    "### BASS 系统合约接口介绍\n",
    "\n",
    "BASS 系统合约接口定义在 `bass.BassProxy` 中，目前有两个接口，一个用于数据验证，一个用于启动计算任务。"
   ]
  },
  {
   "cell_type": "code",
   "execution_count": 1,
   "metadata": {},
   "outputs": [],
   "source": [
    "def notify_dataset_state(self, task_id: str, verified: bool, cause_of_failuer: str):\n",
    "    \"\"\"向任务管理器通报本地数据验证结果。\n",
    "    \n",
    "    参数说明:\n",
    "        task_id: 数据验证相关的任务 ID。\n",
    "        verified: 验证结果是否成功，成功为 True。\n",
    "        cause_of_failuer: 失败时提供失败原因说明，成功时可忽略。\n",
    "    \"\"\""
   ]
  },
  {
   "cell_type": "markdown",
   "metadata": {},
   "source": [
    "***`notify_dataset_state` 接口目前仅有异构联邦任务使用，后续版本迭代时可能会统一修改。***"
   ]
  },
  {
   "cell_type": "code",
   "execution_count": 2,
   "metadata": {},
   "outputs": [],
   "source": [
    "def launch_task(self, task_id: str, pickle_file_key: str) -> bool:\n",
    "    \"\"\"通知任务管理器启动计算任务。\n",
    "\n",
    "    参数说明:\n",
    "        task_id: 数据验证相关的任务 ID。\n",
    "        pickle_file_key: 任务调度器启动任务所需的文件压缩包文件 key，其中包含：开发者在\n",
    "        Notebook 中编写的任务代码、开发者在 Notebook 环境中上传的相关代码文件（夹）、\n",
    "        可选的 requirements.txt 依赖文件。调度器事先将这些文件打包上传（通过任务管理器\n",
    "        提供的上传接口），上传成功后接口返回的访问 key。\n",
    "\n",
    "    返回值:\n",
    "        是否启动成功。\n",
    "    \"\"\""
   ]
  },
  {
   "cell_type": "markdown",
   "metadata": {},
   "source": [
    "### BASS 系统合约接口的使用和调试\n",
    "\n",
    "要调用 BASS 系统合约接口，需要首先初始化一个 BassProxy 对象，初始化不需要任何参数。"
   ]
  },
  {
   "cell_type": "code",
   "execution_count": null,
   "metadata": {},
   "outputs": [],
   "source": [
    "from alphafed.bass import BassProxy\n",
    "\n",
    "proxy = BassProxy()\n",
    "proxy.notify_dataset_state(task_id='TASK_ID', verified=False, cause_of_failuer='加载本地数据失败')\n",
    "proxy.launch_task(task_id='TASK_ID', pickle_file_key='pickle_file_key')"
   ]
  },
  {
   "cell_type": "markdown",
   "metadata": {},
   "source": [
    "BASS 系统合约接口可以运行在模拟环境中，但是在模拟环境中时不会触发实际操作。因此开发者可以在代码中必要的位置预置好代码，在模拟环境中运行不会产生副作用。需要实际执行的时候，只需要移除模拟环境，接口实现会自动开始工作，减少切换环境时的代码迁移工作量。\n",
    "\n",
    "在模拟环境下运行的代码如下："
   ]
  },
  {
   "cell_type": "code",
   "execution_count": 3,
   "metadata": {},
   "outputs": [
    {
     "name": "stderr",
     "output_type": "stream",
     "text": [
      "2023-01-10 10:02:34,082|WARNING|mock|__enter__|89:\n",
      "Without specifying nodes, query_nodes returns an empty list.\n"
     ]
    },
    {
     "name": "stdout",
     "output_type": "stream",
     "text": [
      "do something before\n",
      "do something after\n"
     ]
    }
   ],
   "source": [
    "from alphafed import mock_context\n",
    "from alphafed.bass import BassProxy\n",
    "\n",
    "\n",
    "with mock_context():\n",
    "    proxy = BassProxy()\n",
    "    # 通知任务管理器数据验证状态\n",
    "    proxy.notify_dataset_state(task_id='TASK_ID', verified=False, cause_of_failuer='加载本地数据失败')\n",
    "    # 启动指定学习任务\n",
    "    proxy.launch_task(task_id='TASK_ID', pickle_file_key='pickle_file_key')"
   ]
  },
  {
   "cell_type": "markdown",
   "metadata": {},
   "source": [
    "### 任务运行时服务合约接口介绍\n",
    "\n",
    "任务运行时服务合约接口定义在 `contractor.TaskContractor` 中，以下是任务运行时服务合约接口的列表和介绍："
   ]
  },
  {
   "cell_type": "code",
   "execution_count": 4,
   "metadata": {},
   "outputs": [],
   "source": [
    "from typing import List, Optional"
   ]
  },
  {
   "cell_type": "code",
   "execution_count": 6,
   "metadata": {},
   "outputs": [],
   "source": [
    "def query_nodes(self) -> List[str]:\n",
    "    \"\"\"查询当前任务所有参与方的 ID 列表。\n",
    "\n",
    "    模拟模式下返回的列表，是进入模拟环境时通过 nodes 配置的列表，没有配置的话返回空列表。\n",
    "    \"\"\""
   ]
  },
  {
   "cell_type": "code",
   "execution_count": 7,
   "metadata": {},
   "outputs": [],
   "source": [
    "def upload_file(self, fp, persistent: bool = False, upload_name: str = None) -> str:\n",
    "    \"\"\"上传文件。\n",
    "\n",
    "    模拟模式下调用上传接口依然会执行上传操作，且返回一个可访问的 URL。但是此时不支持长期保存，\n",
    "    无论 persistent 设置为何值，都只会临时保存文件，很快会被自动清除。\n",
    "\n",
    "    参数说明:\n",
    "        fp: 文件指针，可以是文件路径的字符串，也可以是已打开的文件流对象。\n",
    "        persistent: 是否长期保存？非长期保存的文件会在一定时间后被自动清除。\n",
    "        upload_name: 上传后使用的文件名，仅在上传文件流是有效。\n",
    "\n",
    "    返回值:\n",
    "        可访问的文件 URL。\n",
    "    \"\"\""
   ]
  },
  {
   "cell_type": "code",
   "execution_count": 8,
   "metadata": {},
   "outputs": [],
   "source": [
    "def report_progress(self, percent: int):\n",
    "    \"\"\"上报任务进度，进度值为 0 - 100 之间的整数，代表 N%。\n",
    "\n",
    "    模拟模式下调用会直接返回。\n",
    "    \"\"\""
   ]
  },
  {
   "cell_type": "markdown",
   "metadata": {},
   "source": [
    "### 任务运行时服务合约接口的使用和调试\n",
    "\n",
    "要调用任务运行时服务合约接口，需要首先初始化一个 `TaskContractor` 对象，初始化必须指定所属的任务 ID。如果任务 ID 指定错误，所有接口都不会正常工作。也正是因为初始化 `TaskContractor` 对象时指定了任务 ID，所以里面的所有接口都不需要传递 `task_id` 参数。"
   ]
  },
  {
   "cell_type": "code",
   "execution_count": null,
   "metadata": {},
   "outputs": [],
   "source": [
    "from alphafed.contractor import TaskContractor\n",
    "\n",
    "contractor = TaskContractor(task_id='TASK_ID')\n",
    "contractor.query_nodes()\n",
    "contractor.upload_file('LOCAL_FILE', persistent=False, upload_name='NEW_NAME')\n",
    "contractor.report_progress(35)"
   ]
  },
  {
   "cell_type": "markdown",
   "metadata": {},
   "source": [
    "模拟环境下运行的行为已经在接口说明中阐述，下面只展示示例代码："
   ]
  },
  {
   "cell_type": "code",
   "execution_count": 9,
   "metadata": {},
   "outputs": [
    {
     "name": "stdout",
     "output_type": "stream",
     "text": [
      "do something before\n",
      "do something after\n"
     ]
    }
   ],
   "source": [
    "from alphafed import mock_context\n",
    "from alphafed.contractor import TaskContractor\n",
    "\n",
    "\n",
    "with mock_context(nodes=['node 1', 'node 2', 'node 3']):\n",
    "    contractor = TaskContractor(task_id='TASK_ID')\n",
    "    node_list = contractor.query_nodes()\n",
    "    print(f'参加任务的节点包括: {node_list}')\n",
    "    file_url = contractor.upload_file('./6. 合约消息机制简介.ipynb', persistent=False)\n",
    "    print(f'文件地址为: {file_url}')\n",
    "    contractor.report_progress(35)"
   ]
  },
  {
   "cell_type": "markdown",
   "metadata": {},
   "source": [
    "## 任务级合约接口\n",
    "\n",
    "任务级合约主要用来在节点间传递数据，但也有两个用于任务控制的接口，分别用于上传任务运行结果和通知任务管理器任务结束。"
   ]
  },
  {
   "cell_type": "code",
   "execution_count": 10,
   "metadata": {},
   "outputs": [],
   "source": [
    "from typing import Union\n",
    "from alphafed.contractor import ContractEvent"
   ]
  },
  {
   "cell_type": "code",
   "execution_count": 11,
   "metadata": {},
   "outputs": [],
   "source": [
    "def apply_sending_data(self, source: str, target: Union[str, List[str]], **kwargs) -> str:\n",
    "    \"\"\"申请发送数据。\n",
    "\n",
    "    主要用于数据传输流程的控制。AlphaMed 平台已经提供了数据传输工具，因此大部分情况下\n",
    "    开发者不会用到这个接口。\n",
    "\n",
    "    参数说明:\n",
    "        source:\n",
    "            数据发送源节点 ID。\n",
    "        target:\n",
    "            数据发送目标节点 ID 或 ID 列表。\n",
    "        kwargs:\n",
    "            其它参数，由具体实现使用。\n",
    "    \"\"\"\n",
    "\n",
    "def deny_sending_data(self,\n",
    "                      target: str,\n",
    "                      session_id: str,\n",
    "                      rejecter: str,\n",
    "                      cause: str = None) -> None:\n",
    "    \"\"\"拒绝接收数据。\n",
    "\n",
    "    主要用于数据传输流程的控制。AlphaMed 平台已经提供了数据传输工具，因此大部分情况下\n",
    "    开发者不会用到这个接口。\n",
    "\n",
    "    参数说明:\n",
    "        target:\n",
    "            消息发送目标节点 ID。\n",
    "        session_id:\n",
    "            数据发送 Session ID，从发送申请消息中获取。\n",
    "        rejecter:\n",
    "            当前拒绝节点 ID。\n",
    "        cause:\n",
    "            拒绝原因。\n",
    "    \"\"\"\n",
    "\n",
    "def accept_sending_data(self, target: str, session_id: str, **kwargs) -> None:\n",
    "    \"\"\"接受数据传输。\n",
    "\n",
    "    主要用于数据传输流程的控制。AlphaMed 平台已经提供了数据传输工具，因此大部分情况下\n",
    "    开发者不会用到这个接口。\n",
    "\n",
    "    参数说明:\n",
    "        target:\n",
    "            消息发送目标节点 ID。\n",
    "        session_id:\n",
    "            数据发送 Session ID，从发送申请消息中获取。\n",
    "        kwargs:\n",
    "            其它参数，由具体实现使用。\n",
    "    \"\"\""
   ]
  },
  {
   "cell_type": "code",
   "execution_count": 12,
   "metadata": {},
   "outputs": [],
   "source": [
    "def contract_events(self, timeout: int = 0) -> ContractEvent:\n",
    "    \"\"\"返回收到合约消息的迭代器接口。\n",
    "    \n",
    "    参数说明:\n",
    "        timeout: 接收消息的超时时间，达到超时时间后退出消息监听。\n",
    "\n",
    "    模拟环境中底层实现机制不同，但对调用者而言功能与正式环境一致。\n",
    "    \"\"\""
   ]
  },
  {
   "cell_type": "code",
   "execution_count": 13,
   "metadata": {},
   "outputs": [],
   "source": [
    "def upload_task_achivement(self,\n",
    "                           aggregator: str,\n",
    "                           model_file: str,\n",
    "                           report_file: str = ''):\n",
    "    \"\"\"向任务管理器上传任务运行结果，包括模型文件和/或指标文件。\n",
    "\n",
    "    参数说明:\n",
    "        aggregator: 聚合节点 ID。\n",
    "        model_file: 模型文件地址。\n",
    "        report_file: 评估指标文件地址。\n",
    "\n",
    "    模拟环境中依然会发送消息通知各相关方，但不会触发任务管理器执行实际操作。\n",
    "    \"\"\""
   ]
  },
  {
   "cell_type": "code",
   "execution_count": 14,
   "metadata": {},
   "outputs": [],
   "source": [
    "def notify_task_completion(self, result: bool):\n",
    "    \"\"\"通知任务管理器任务完成。\n",
    "\n",
    "    参数说明:\n",
    "        result: 是否成功结束。\n",
    "\n",
    "    模拟环境中依然会发送消息通知各相关方，但不会触发任务管理器执行实际操作。\n",
    "    \"\"\""
   ]
  },
  {
   "cell_type": "code",
   "execution_count": 15,
   "metadata": {},
   "outputs": [],
   "source": [
    "# 以下三个接口是 TaskContractor 中对应接口的 shortcut，直接转发调用，不再赘述。\n",
    "\n",
    "def query_nodes(self) -> List[str]:\n",
    "    ...\n",
    "def report_progress(self, percent: int):\n",
    "    ...\n",
    "def upload_file(self, fp, persistent: bool = False, upload_name: str = None) -> str:\n",
    "    ..."
   ]
  },
  {
   "cell_type": "markdown",
   "metadata": {},
   "source": [
    "## 任务级合约接口的使用和调试\n",
    "\n",
    "要调用任务级合约接口，需要首先初始化一个 `TaskMessageContractor` 对象，初始化必须指定所属的任务 ID。如果任务 ID 指定错误，所有接口都不会正常工作。也正是因为初始化 `TaskMessageContractor` 对象时指定了任务 ID，所以里面的所有接口都不需要传递 `task_id` 参数。"
   ]
  },
  {
   "cell_type": "code",
   "execution_count": null,
   "metadata": {},
   "outputs": [],
   "source": [
    "from alphafed.contractor import TaskMessageContractor\n",
    "\n",
    "contractor = TaskMessageContractor(task_id='TASK_ID')\n",
    "contractor.upload_task_achivement(aggregator='NODE_ID',\n",
    "                                  model_file='MODEL_FILE',\n",
    "                                  report_file='REPORT_FILE')\n",
    "contractor.notify_task_completion(result=True)\n",
    "\n",
    "# 调用 contract_events 时如果不指定 timeout，会监听新消息直至永远\n",
    "for event in contractor.contract_events(timeout=30):\n",
    "    print(f'收到了一个新消息: {event}')\n",
    "    break  # 收到新消息后可通过 break、continue、return 等关键字控制跳出循环或继续接收新消息"
   ]
  },
  {
   "cell_type": "markdown",
   "metadata": {},
   "source": [
    "模拟环境中运行合约消息接口，能够收到发给自己的消息。"
   ]
  },
  {
   "cell_type": "code",
   "execution_count": 2,
   "metadata": {},
   "outputs": [
    {
     "name": "stdout",
     "output_type": "stream",
     "text": [
      "收到了一个新消息: NoticeTaskCompletionEvent(type='notice_task_completion', result=True)\n"
     ]
    }
   ],
   "source": [
    "from alphafed import mock_context\n",
    "from alphafed.contractor import TaskMessageContractor\n",
    "\n",
    "\n",
    "self_node = 'NODE_ID_1'\n",
    "partner_a = 'NODE_ID_2'\n",
    "partner_b = 'NODE_ID_3'\n",
    "with mock_context(id=self_node, nodes=[self_node, partner_a, partner_b]):\n",
    "    contractor = TaskMessageContractor(task_id='TASK_ID')\n",
    "    contractor.upload_task_achivement(aggregator=self_node,\n",
    "                                      model_file='res/model.pt',\n",
    "                                      report_file='res/report.zip')\n",
    "    contractor.notify_task_completion(result=True)\n",
    "\n",
    "    # 调用 contract_events 是如果不指定 timeout，会监听新消息直至永远\n",
    "    for event in contractor.contract_events(timeout=3):\n",
    "        print(f'收到了一个新消息: {event}')\n",
    "        # 收到新消息后可通过 break、continue、return 等关键字控制跳出循环或继续接收新消息"
   ]
  },
  {
   "cell_type": "markdown",
   "metadata": {},
   "source": [
    "## 自定义任务合约消息\n",
    "\n",
    "平台定义的消息提供了一套基本功能的实现。实际运行联邦学习时，不同算法的流程不同，就需要使用不同的消息来控制交互流程。即使是同一个算法，在不同的实现中、支持不同的细分功能时，也需要定义各自的流程细节。所以 AlphaMed 平台提供了自定义任务合约消息的机制，已突破平台预置消息类型有限的制约，支持庞大的算法实现。\n",
    "\n",
    "自定义消息只能是任务级合约消息，且仅有数据传递功能，不会触发任务管理器等其它管理功能模块的操作。\n",
    "\n",
    "自定义消息机制由三个核心组件组成：`ContractEvent`、`TaskMessageEventFactory`、`TaskMessageContractor`，均位于 `alphafed.contractor` 模块中。下面分别介绍。\n",
    "\n",
    "### 通过 `ContractEvent` 定义消息内容\n",
    "\n",
    "需要自定义一个消息类型时，自定义的消息实现要继承 `ContractEvent`，且需要注释为 `@dataclass` 类型。消息类里面定义了消息中包含的数据字段和字段类型。比如定义一个发起方发送给参与方的状态同步消息："
   ]
  },
  {
   "cell_type": "code",
   "execution_count": 5,
   "metadata": {},
   "outputs": [],
   "source": [
    "from dataclasses import dataclass\n",
    "from alphafed.contractor import ContractEvent\n",
    "\n",
    "\n",
    "@dataclass\n",
    "class SyncEvent(ContractEvent):\n",
    "\n",
    "    TYPE = 'sync'  # 消息类型标识，可以是任意字符串，但要保证在算法流程内部唯一\n",
    "\n",
    "    aggregator: str  # 发起方 ID\n",
    "    current_round: int  # 当前训练轮次\n",
    "    participants: List[str]  # 当前参与者的 ID 列表"
   ]
  },
  {
   "cell_type": "markdown",
   "metadata": {},
   "source": [
    "框架会自动解析消息定义的字段和数据类型，将其转化为字符串形式的合约文本内容，然后通过合约网络发送出去。目前 Python 的常见基础类型都支持自动处理。但是如果使用了复杂类型，比如自定义的类，就不能自动处理了，此时可以通过重新实现 `event_to_contract` 接口将消息内容转化为可以被 json 模块处理的字典类型。"
   ]
  },
  {
   "cell_type": "code",
   "execution_count": 6,
   "metadata": {},
   "outputs": [],
   "source": [
    "def event_to_contract(self) -> dict:\n",
    "    \"\"\"将消息对象转化为可以 jsonify 的字典类型数据，以备发送。\"\"\""
   ]
  },
  {
   "cell_type": "markdown",
   "metadata": {},
   "source": [
    "上面定义的 `SyncEvent` 消息中的字段都是基本数据类型，所以可以忽略 `event_to_contract`。这样 `SyncEvent` 经过注册后就已经可以使用了。（注册的方法接下来会介绍，暂时略过。）但是这个状态的消息只能发送，不能通过 `contract_events()` 接口接收消息。要使消息能够被接收，还需要实现 `contract_to_event` 接口，将合约中的文本内容反序列化为消息对象。完整的 `SyncEvent` 代码如下："
   ]
  },
  {
   "cell_type": "code",
   "execution_count": 7,
   "metadata": {},
   "outputs": [],
   "source": [
    "@dataclass\n",
    "class SyncEvent(ContractEvent):\n",
    "\n",
    "    TYPE = 'sync'  # 消息类型标识，可以是任意字符串，但要保证在算法流程内部唯一\n",
    "\n",
    "    aggregator: str  # 发起方 ID\n",
    "    current_round: int  # 当前训练轮次\n",
    "    participants: List[str]  # 当前参与者的 ID 列表\n",
    "\n",
    "    @classmethod\n",
    "    def contract_to_event(cls, contract: dict) -> 'SyncEvent':\n",
    "        event_type = contract.get('type')\n",
    "        aggregator = contract.get('aggregator')\n",
    "        current_round = contract.get('current_round')\n",
    "        participants = contract.get('participants')\n",
    "        assert event_type == cls.TYPE, f'合约类型错误: {event_type}'\n",
    "        assert aggregator and isinstance(aggregator, str), f'invalid aggregator: {aggregator}'\n",
    "        assert current_round and isinstance(current_round, int), f'invalid current_round: {current_round}'\n",
    "        assert participants and isinstance(participants, list), f'invalid participants: {participants}'\n",
    "        return SyncEvent(aggregator=aggregator, current_round=current_round, participants=participants)"
   ]
  },
  {
   "cell_type": "markdown",
   "metadata": {},
   "source": [
    "### 通过 `TaskMessageEventFactory` 注册自定义消息\n",
    "\n",
    "要注册自定义的合约事件，需要定义一个继承了 `TaskMessageEventFactory` 的事件工厂类。`TaskMessageEventFactory` 中已经注册了一些预置的基础消息类型，把自己定义的事件类型加进列表里就完成了注册。"
   ]
  },
  {
   "cell_type": "code",
   "execution_count": 8,
   "metadata": {},
   "outputs": [],
   "source": [
    "from alphafed.contractor import TaskMessageEventFactory\n",
    "\n",
    "\n",
    "class SyncProcessEventFactory(TaskMessageEventFactory):\n",
    "\n",
    "    _CLASS_MAP = {  # 在这里添加新消息类型\n",
    "        SyncEvent.TYPE: SyncEvent,  # 自定义新消息类型\n",
    "        **TaskMessageEventFactory._CLASS_MAP  # 保留支持 TaskMessageEventFactory 中已有的消息类型\n",
    "    }"
   ]
  },
  {
   "cell_type": "markdown",
   "metadata": {},
   "source": [
    "**注意如果没有底部的 `**TaskMessageEventFactory._CLASS_MAP` 这一行，`TaskMessageEventFactory` 中预置的消息类型将会丢失，不再支持。**\n",
    "\n",
    "### 通过 `TaskMessageContractor` 使用自定义消息\n",
    "\n",
    "最后一步是定义合约收发工具，对业务提供发送合约消息的接口，隐藏合约实现细节。合约收发工具需要继承 `TaskMessageContractor` 类，`TaskMessageContractor` 类提供了绝大部分需要的实现，自定义的工具类只需要补充做两件事情：\n",
    "1. 将 `TaskMessageContractor` 中的消息工厂替换为前面自定义的消息工厂，这个操作在初始化方法中实现。"
   ]
  },
  {
   "cell_type": "code",
   "execution_count": 9,
   "metadata": {},
   "outputs": [],
   "source": [
    "from alphafed.contractor import TaskMessageContractor\n",
    "\n",
    "\n",
    "class SyncProcessContractor(TaskMessageContractor):\n",
    "\n",
    "    def __init__(self, task_id: str):\n",
    "        super().__init__(task_id=task_id)\n",
    "        self._event_factory = SyncProcessEventFactory  # 替换为自定义事件工厂"
   ]
  },
  {
   "cell_type": "markdown",
   "metadata": {},
   "source": [
    "2. 为自定义的消息类型提供发送接口，这样业务逻辑就可以和合约消息机制充分隔离了。一般不需要定义接收接口，`contract_events()` 会处理，除非有特殊需要。"
   ]
  },
  {
   "cell_type": "code",
   "execution_count": 10,
   "metadata": {},
   "outputs": [],
   "source": [
    "from alphafed.contractor import TaskMessageContractor\n",
    "\n",
    "\n",
    "class SyncProcessContractor(TaskMessageContractor):\n",
    "\n",
    "    def __init__(self, task_id: str):\n",
    "        super().__init__(task_id=task_id)\n",
    "        self._event_factory = SyncProcessEventFactory  # 替换为自定义事件工厂\n",
    "\n",
    "    def sync_state(self, aggregator: str, current_round: int, participants: List[str], querier: str):\n",
    "        \"\"\"发送状态同步消息。\"\"\"\n",
    "        event = SyncEvent(aggregator=aggregator,\n",
    "                          current_round=current_round,\n",
    "                          participants=participants)\n",
    "        self._new_contract(targets=[querier], event=event)"
   ]
  },
  {
   "cell_type": "markdown",
   "metadata": {},
   "source": [
    "### 通过自定义消息支持自定义流程的示例\n",
    "\n",
    "下面通过一个实例演示一遍完整的自定义流程设计实现。假设设计一个同步状态的流程，参与方先向全网广播状态查询消息，发起方收到消息后向参与方发送状态同步消息，参与方收到后向发起方发送状态同步响应，发起方收到后确认参与方准备就绪。\n",
    "\n",
    "首先需要定义流程中使用的三个自定义消息。"
   ]
  },
  {
   "cell_type": "code",
   "execution_count": 11,
   "metadata": {},
   "outputs": [],
   "source": [
    "@dataclass\n",
    "class QueryStateEvent(ContractEvent):\n",
    "    \"\"\"状态查询消息。\"\"\"\n",
    "\n",
    "    TYPE = 'query'\n",
    "\n",
    "    querier: str  # 查询者 ID\n",
    "\n",
    "    @classmethod\n",
    "    def contract_to_event(cls, contract: dict) -> 'QueryStateEvent':\n",
    "        event_type = contract.get('type')\n",
    "        querier = contract.get('querier')\n",
    "        assert event_type == cls.TYPE, f'合约类型错误: {event_type}'\n",
    "        assert querier and isinstance(querier, str), f'invalid querier: {querier}'\n",
    "        return QueryStateEvent(querier=querier)\n",
    "\n",
    "\n",
    "@dataclass\n",
    "class SyncEvent(ContractEvent):\n",
    "    \"\"\"状态同步消息。\"\"\"\n",
    "\n",
    "    TYPE = 'sync'  # 消息类型标识，可以是任意字符串，但要保证在算法流程内部唯一\n",
    "\n",
    "    aggregator: str  # 发起方 ID\n",
    "    current_round: int  # 当前训练轮次\n",
    "    participants: List[str]  # 当前参与者的 ID 列表\n",
    "\n",
    "    @classmethod\n",
    "    def contract_to_event(cls, contract: dict) -> 'SyncEvent':\n",
    "        event_type = contract.get('type')\n",
    "        aggregator = contract.get('aggregator')\n",
    "        current_round = contract.get('current_round')\n",
    "        participants = contract.get('participants')\n",
    "        assert event_type == cls.TYPE, f'合约类型错误: {event_type}'\n",
    "        assert aggregator and isinstance(aggregator, str), f'invalid aggregator: {aggregator}'\n",
    "        assert current_round and isinstance(current_round, int), f'invalid current_round: {current_round}'\n",
    "        assert participants and isinstance(participants, list), f'invalid participants: {participants}'\n",
    "        return SyncEvent(aggregator=aggregator, current_round=current_round, participants=participants)\n",
    "\n",
    "\n",
    "@dataclass\n",
    "class SyncRespEvent(ContractEvent):\n",
    "    \"\"\"状态同步响应。\"\"\"\n",
    "\n",
    "    TYPE = 'sync_resp'\n",
    "\n",
    "    querier: str  # 查询者 ID\n",
    "\n",
    "    @classmethod\n",
    "    def contract_to_event(cls, contract: dict) -> 'SyncRespEvent':\n",
    "        event_type = contract.get('type')\n",
    "        querier = contract.get('querier')\n",
    "        assert event_type == cls.TYPE, f'合约类型错误: {event_type}'\n",
    "        assert querier and isinstance(querier, str), f'invalid querier: {querier}'\n",
    "        return SyncRespEvent(querier=querier)"
   ]
  },
  {
   "cell_type": "markdown",
   "metadata": {},
   "source": [
    "注册三个新定义的消息。"
   ]
  },
  {
   "cell_type": "code",
   "execution_count": 12,
   "metadata": {},
   "outputs": [],
   "source": [
    "class SyncProcessEventFactory(TaskMessageEventFactory):\n",
    "\n",
    "    _CLASS_MAP = {  # 在这里添加新消息类型\n",
    "        QueryStateEvent.TYPE: QueryStateEvent,\n",
    "        SyncEvent.TYPE: SyncEvent,\n",
    "        SyncRespEvent.TYPE: SyncRespEvent,\n",
    "        **TaskMessageEventFactory._CLASS_MAP  # 保留支持 TaskMessageEventFactory 中已有的消息类型\n",
    "    }"
   ]
  },
  {
   "cell_type": "markdown",
   "metadata": {},
   "source": [
    "设计扩充合约工具。"
   ]
  },
  {
   "cell_type": "code",
   "execution_count": 13,
   "metadata": {},
   "outputs": [],
   "source": [
    "class SyncProcessContractor(TaskMessageContractor):\n",
    "\n",
    "    def __init__(self, task_id: str):\n",
    "        super().__init__(task_id=task_id)\n",
    "        self._event_factory = SyncProcessEventFactory  # 替换为自定义事件工厂\n",
    "\n",
    "    def query_state(self, querier: str):\n",
    "        \"\"\"发送状态查询消息。\"\"\"\n",
    "        event = QueryStateEvent(querier=querier)\n",
    "        self._new_contract(targets=self.EVERYONE, event=event)  # 指定 self.EVERYONE 广播消息\n",
    "\n",
    "    def sync_state(self, aggregator: str, current_round: int, participants: List[str], querier: str):\n",
    "        \"\"\"发送状态同步消息。\"\"\"\n",
    "        event = SyncEvent(aggregator=aggregator,\n",
    "                          current_round=current_round,\n",
    "                          participants=participants)\n",
    "        self._new_contract(targets=[querier], event=event)  # 指定 querier 消息只会发送给 querier\n",
    "\n",
    "    def response_sync(self, aggregator: str, querier: str):\n",
    "        \"\"\"发送状态同步响应消息。\"\"\"\n",
    "        event = SyncRespEvent(querier=querier)\n",
    "        self._new_contract(targets=[aggregator], event=event)  # 指定 aggregator 消息只会发送给 aggregator"
   ]
  },
  {
   "cell_type": "markdown",
   "metadata": {},
   "source": [
    "同步流程的消息和工具定义完成。下面设计一个发起方、一个参与方，模拟运行一下同步流程。"
   ]
  },
  {
   "cell_type": "code",
   "execution_count": null,
   "metadata": {},
   "outputs": [],
   "source": [
    "# 发起方模拟脚本\n",
    "\n",
    "task_id = '79ce0d22-22f8-4f5d-8d0f-35ad0b26db7b'  # 随机指定一个 ID\n",
    "self_node = 'd54a3af2-83e2-4da6-bc8d-2dc03634612c'  # 随机指定一个 ID\n",
    "# 模拟指定两个已经完成同步的参与方节点\n",
    "some_others = [\n",
    "    '8983ba98-74ac-41eb-9588-2c2d57ecf8cb',  # 随机指定一个 ID\n",
    "    '4c6db456-3ece-4e2f-a165-585d0a6f175c'  # 随机指定一个 ID\n",
    "]\n",
    "\n",
    "def sync_state():\n",
    "    # 实例化合约工具\n",
    "    contractor = SyncProcessContractor(task_id=task_id)\n",
    "\n",
    "    print('等待状态同步请求中 ...')\n",
    "    for _event in contractor.contract_events():\n",
    "        assert isinstance(_event, QueryStateEvent), '消息类型错误，期望收到状态查询消息'\n",
    "        querier = _event.querier\n",
    "        print(f'收到状态查询消息，查询者为: {querier}')\n",
    "        break  # 退出消息监听\n",
    "    # 发送状态同步消息\n",
    "    contractor.sync_state(aggregator=self_node,\n",
    "                          current_round=11,\n",
    "                          participants=[self_node, *some_others],\n",
    "                          querier=querier)\n",
    "    print('等待状态同步响应中 ...')\n",
    "    for _event in contractor.contract_events():\n",
    "        assert isinstance(_event, SyncRespEvent), '消息类型错误，期望收到同步状态响应消息'\n",
    "        assert querier == _event.querier, '同步异常，请求者匹配失败'\n",
    "    print(f'与 {querier} 同步状态完成.')\n",
    "\n",
    "# 模拟调试流程\n",
    "nodes = [  # 消息广播会发给 nodes 中所有节点，所以需要配置 nodes 才能正常广播消息\n",
    "    self_node,\n",
    "    *some_others,\n",
    "    '2d7514b7-f2fc-4f6c-8d88-849339bd268a' # 参与方ID\n",
    "]\n",
    "with mock_context(id=self_node, nodes=nodes):\n",
    "    sync_state()"
   ]
  },
  {
   "cell_type": "code",
   "execution_count": null,
   "metadata": {},
   "outputs": [],
   "source": [
    "# 参与方模拟脚本\n",
    "\n",
    "task_id = '79ce0d22-22f8-4f5d-8d0f-35ad0b26db7b'  # 必须与发起方的 task_id 相同\n",
    "self_node = '2d7514b7-f2fc-4f6c-8d88-849339bd268a'  # 随机指定一个 ID\n",
    "\n",
    "def sync_state():\n",
    "    # 实例化合约工具\n",
    "    contractor = SyncProcessContractor(task_id=task_id)\n",
    "\n",
    "    print('发送状态查询请求')\n",
    "    contractor.query_state(querier=self_node)\n",
    "    print('等待状态同步消息 ...')\n",
    "    for _event in contractor.contract_events():\n",
    "        assert isinstance(_event, SyncEvent), '消息类型错误，期望收到状态同步消息'\n",
    "        aggregator = _event.aggregator\n",
    "        print('收到状态同步消息')\n",
    "        print(f'任务发起方为: {aggregator}')\n",
    "        print(f'当前训练轮次为: {_event.current_round}')\n",
    "        print(f'当前任务参与方有: {_event.participants}')\n",
    "        break  # 退出消息监听\n",
    "    # 发送状态同步响应\n",
    "    contractor.response_sync(aggregator=aggregator, querier=self_node)\n",
    "    print(f'与 {aggregator} 同步状态完成.')\n",
    "\n",
    "# 模拟调试流程\n",
    "some_others = [\n",
    "    '8983ba98-74ac-41eb-9588-2c2d57ecf8cb',\n",
    "    '4c6db456-3ece-4e2f-a165-585d0a6f175c'\n",
    "]\n",
    "nodes = [  # 消息广播会发给 nodes 中所有节点，所以需要配置 nodes 才能正常广播消息\n",
    "    self_node,\n",
    "    *some_others,\n",
    "    'd54a3af2-83e2-4da6-bc8d-2dc03634612c' # 发起方ID\n",
    "]\n",
    "with mock_context(id=self_node, nodes=nodes):\n",
    "    sync_state()"
   ]
  },
  {
   "cell_type": "markdown",
   "metadata": {},
   "source": [
    "将发起方脚本和参与方脚本分别复制到独立的 Notebook 脚本文件中，加载自定义的消息工具代码，然后运行脚本。或者可以使用整理好的[发起方脚本](res/6_initiator.ipynb)和[参与方脚本](res/6_collaborator.ipynb)，脚本启动顺序随意，看看是否能够成功完成同步流程。"
   ]
  }
 ],
 "metadata": {
  "kernelspec": {
   "display_name": "Python 3 (ipykernel)",
   "language": "python",
   "name": "python3"
  },
  "language_info": {
   "codemirror_mode": {
    "name": "ipython",
    "version": 3
   },
   "file_extension": ".py",
   "mimetype": "text/x-python",
   "name": "python",
   "nbconvert_exporter": "python",
   "pygments_lexer": "ipython3",
   "version": "3.10.6"
  },
  "vscode": {
   "interpreter": {
    "hash": "40d3a090f54c6569ab1632332b64b2c03c39dcf918b08424e98f38b5ae0af88f"
   }
  }
 },
 "nbformat": 4,
 "nbformat_minor": 4
}
