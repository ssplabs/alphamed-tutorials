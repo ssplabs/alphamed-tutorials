{
 "cells": [
  {
   "cell_type": "code",
   "execution_count": 1,
   "metadata": {},
   "outputs": [
    {
     "name": "stderr",
     "output_type": "stream",
     "text": [
      "2023-02-08 02:38:12,712|INFO|pretrained|from_pretrained|34:\n",
      "Loading resouce from: `auto_model_fed_avg`.\n",
      "2023-02-08 02:38:12,713|DEBUG|pretrained|_load_model_obj|140:\n",
      "config.entry_file='auto_fed_avg.py'\n",
      "2023-02-08 02:38:12,714|DEBUG|pretrained|_load_model_obj|141:\n",
      "model_file='auto_model_fed_avg/auto_fed_avg.py'\n",
      "2023-02-08 02:38:12,789|DEBUG|pretrained|_load_model_obj|143:\n",
      "module=<module 'auto_fed_avg' from '/app/db/notebook_dir/user_07ec421f72/docs/tutorial/res/auto_model_fed_avg/auto_fed_avg.py'>\n",
      "2023-02-08 02:38:12,790|DEBUG|pretrained|_load_model_obj|145:\n",
      "model_class=<class 'auto_fed_avg.AutoResNetFedAvg'>\n",
      "2023-02-08 02:38:12,791|INFO|pretrained|_load_model_obj|147:\n",
      "Loading pretrained model complete.\n"
     ]
    }
   ],
   "source": [
    "from alphafed import mock_context\n",
    "from alphafed.auto_ml import from_pretrained\n",
    "\n",
    "auto_model = from_pretrained(resource_dir='auto_model_fed_avg')"
   ]
  },
  {
   "cell_type": "markdown",
   "metadata": {},
   "source": [
    "测试加载训练数据。"
   ]
  },
  {
   "cell_type": "code",
   "execution_count": 2,
   "metadata": {},
   "outputs": [
    {
     "name": "stdout",
     "output_type": "stream",
     "text": [
      "数据是否加载成功: True\n",
      "提示信息: Initializing dataset complete.\n",
      "包含训练集样本: 7012\n",
      "包含验证集样本: 1000\n",
      "包含测试集样本: 2003\n"
     ]
    }
   ],
   "source": [
    "is_succ, help_text = auto_model.init_dataset(dataset_dir='data/HAM10000')\n",
    "print(f'数据是否加载成功: {is_succ}')\n",
    "print(f'提示信息: {help_text}')\n",
    "if is_succ:\n",
    "    print(f'包含训练集样本: {len(auto_model.training_loader.dataset)}')\n",
    "    print(f'包含验证集样本: {len(auto_model.validation_loader.dataset)}')\n",
    "    print(f'包含测试集样本: {len(auto_model.testing_loader.dataset)}')"
   ]
  },
  {
   "cell_type": "markdown",
   "metadata": {},
   "source": [
    "微调训练之前的测试。"
   ]
  },
  {
   "cell_type": "code",
   "execution_count": 3,
   "metadata": {},
   "outputs": [
    {
     "name": "stderr",
     "output_type": "stream",
     "text": [
      "2023-02-08 02:38:20,226|INFO|auto_fed_avg|push_log|488:\n",
      "Begin testing of epoch 0.\n",
      "2023-02-08 02:39:14,198|INFO|auto_fed_avg|run_test|412:\n",
      "Testing Average Loss: 2.4185\n",
      "2023-02-08 02:39:14,199|INFO|auto_fed_avg|run_test|413:\n",
      "Testing Correct Rate: 5.59\n"
     ]
    },
    {
     "name": "stdout",
     "output_type": "stream",
     "text": [
      "平均损失为: 2.4184583753451547\n",
      "准确率为: 5.59\n"
     ]
    }
   ],
   "source": [
    "avg_loss, correct_rate = auto_model.run_test()\n",
    "print(f'平均损失为: {avg_loss}')\n",
    "print(f'准确率为: {correct_rate:.2f}')"
   ]
  },
  {
   "cell_type": "markdown",
   "metadata": {},
   "source": [
    "由于本地数据集类别与模型预训练使用的类别完全不同，所以初始准确率很低，只有 5.59%。现在正式开始微调。"
   ]
  },
  {
   "cell_type": "code",
   "execution_count": 4,
   "metadata": {},
   "outputs": [
    {
     "name": "stderr",
     "output_type": "stream",
     "text": [
      "2023-02-08 02:39:25,357|INFO|scheduler|push_log|118:\n",
      "Begin to validate local context.\n",
      "2023-02-08 02:39:25,358|INFO|scheduler|push_log|118:\n",
      "There are 2003 samples for testing.\n",
      "2023-02-08 02:39:25,359|INFO|scheduler|push_log|118:\n",
      "Local context is ready.\n",
      "2023-02-08 02:39:25,360|INFO|scheduler|push_log|118:\n",
      "Node d5f978fa-84f5-4724-b4f5-8abb317be4e2 is up.\n",
      "2023-02-08 02:39:25,361|INFO|scheduler|push_log|118:\n",
      "Waiting for participants taking part in ...\n",
      "2023-02-08 02:39:37,391|INFO|scheduler|push_log|118:\n",
      "Welcome a new participant ID: 4d43ea09-aad6-4beb-bc23-105e90ad5567.\n",
      "2023-02-08 02:39:37,392|INFO|scheduler|push_log|118:\n",
      "There are 2 participants now.\n",
      "2023-02-08 02:39:59,449|INFO|scheduler|push_log|118:\n",
      "Welcome a new participant ID: ff2ce0a2-6983-45d6-8512-151e71710928.\n",
      "2023-02-08 02:39:59,450|INFO|scheduler|push_log|118:\n",
      "There are 3 participants now.\n",
      "2023-02-08 02:39:59,460|INFO|scheduler|push_log|118:\n",
      "Synchronizing round state ...\n",
      "2023-02-08 02:39:59,461|INFO|scheduler|push_log|118:\n",
      "Initiate state synchronization of round 1.\n",
      "2023-02-08 02:39:59,473|INFO|scheduler|push_log|118:\n",
      "Waiting for synchronization responses ...\n",
      "2023-02-08 02:40:00,490|INFO|scheduler|push_log|118:\n",
      "Successfully synchronized state with ID: ff2ce0a2-6983-45d6-8512-151e71710928.\n",
      "2023-02-08 02:40:00,491|INFO|scheduler|push_log|118:\n",
      "Successfully synchronized with 1 participants.\n",
      "2023-02-08 02:40:00,500|INFO|scheduler|push_log|118:\n",
      "Successfully synchronized state with ID: 4d43ea09-aad6-4beb-bc23-105e90ad5567.\n",
      "2023-02-08 02:40:00,500|INFO|scheduler|push_log|118:\n",
      "Successfully synchronized with 2 participants.\n",
      "2023-02-08 02:40:00,501|INFO|scheduler|push_log|118:\n",
      "Successfully synchronized state in round 1\n",
      "2023-02-08 02:40:00,501|INFO|scheduler|push_log|118:\n",
      "Begin the training of round 1.\n",
      "2023-02-08 02:40:00,527|INFO|scheduler|push_log|118:\n",
      "Calculation of round 1 is started.\n",
      "2023-02-08 02:40:00,571|INFO|scheduler|push_log|118:\n",
      "Distributing parameters ...\n",
      "2023-02-08 02:40:03,677|INFO|scheduler|push_log|118:\n",
      "Successfully distributed parameters to: ['ff2ce0a2-6983-45d6-8512-151e71710928', '4d43ea09-aad6-4beb-bc23-105e90ad5567']\n",
      "2023-02-08 02:40:03,678|INFO|scheduler|push_log|118:\n",
      "Distributed parameters to 2 calculators.\n",
      "2023-02-08 03:10:20,464|INFO|scheduler|push_log|118:\n",
      "The aggregator ID: d5f978fa-84f5-4724-b4f5-8abb317be4e2 obtained its calculation results.\n",
      "2023-02-08 03:10:20,500|INFO|scheduler|push_log|118:\n",
      "Now waiting for executing calculation ...\n",
      "2023-02-08 03:10:20,506|INFO|scheduler|push_log|118:\n",
      "Waiting for training results ...\n",
      "2023-02-08 03:11:00,110|INFO|scheduler|push_log|118:\n",
      "Received calculation results from ID: 4d43ea09-aad6-4beb-bc23-105e90ad5567\n",
      "2023-02-08 03:11:00,128|INFO|scheduler|push_log|118:\n",
      "Received calculation results from ID: ff2ce0a2-6983-45d6-8512-151e71710928\n",
      "2023-02-08 03:11:00,129|INFO|scheduler|push_log|118:\n",
      "Received 3 copies of calculation results.\n",
      "2023-02-08 03:11:00,130|INFO|scheduler|push_log|118:\n",
      "Begin to aggregate and update parameters.\n",
      "2023-02-08 03:11:00,131|WARNING|fed_avg|_process_aggregation|576:\n",
      "average a int value may lose precision: _key='bn1.num_batches_tracked'\n",
      "2023-02-08 03:11:00,132|WARNING|fed_avg|_process_aggregation|576:\n",
      "average a int value may lose precision: _key='layer1.0.bn1.num_batches_tracked'\n",
      "2023-02-08 03:11:00,132|WARNING|fed_avg|_process_aggregation|576:\n",
      "average a int value may lose precision: _key='layer1.0.bn2.num_batches_tracked'\n",
      "2023-02-08 03:11:00,133|WARNING|fed_avg|_process_aggregation|576:\n",
      "average a int value may lose precision: _key='layer1.1.bn1.num_batches_tracked'\n",
      "2023-02-08 03:11:00,134|WARNING|fed_avg|_process_aggregation|576:\n",
      "average a int value may lose precision: _key='layer1.1.bn2.num_batches_tracked'\n",
      "2023-02-08 03:11:00,135|WARNING|fed_avg|_process_aggregation|576:\n",
      "average a int value may lose precision: _key='layer2.0.bn1.num_batches_tracked'\n",
      "2023-02-08 03:11:00,136|WARNING|fed_avg|_process_aggregation|576:\n",
      "average a int value may lose precision: _key='layer2.0.bn2.num_batches_tracked'\n",
      "2023-02-08 03:11:00,136|WARNING|fed_avg|_process_aggregation|576:\n",
      "average a int value may lose precision: _key='layer2.0.downsample.1.num_batches_tracked'\n",
      "2023-02-08 03:11:00,137|WARNING|fed_avg|_process_aggregation|576:\n",
      "average a int value may lose precision: _key='layer2.1.bn1.num_batches_tracked'\n",
      "2023-02-08 03:11:00,138|WARNING|fed_avg|_process_aggregation|576:\n",
      "average a int value may lose precision: _key='layer2.1.bn2.num_batches_tracked'\n",
      "2023-02-08 03:11:00,139|WARNING|fed_avg|_process_aggregation|576:\n",
      "average a int value may lose precision: _key='layer3.0.bn1.num_batches_tracked'\n",
      "2023-02-08 03:11:00,140|WARNING|fed_avg|_process_aggregation|576:\n",
      "average a int value may lose precision: _key='layer3.0.bn2.num_batches_tracked'\n",
      "2023-02-08 03:11:00,140|WARNING|fed_avg|_process_aggregation|576:\n",
      "average a int value may lose precision: _key='layer3.0.downsample.1.num_batches_tracked'\n",
      "2023-02-08 03:11:00,141|WARNING|fed_avg|_process_aggregation|576:\n",
      "average a int value may lose precision: _key='layer3.1.bn1.num_batches_tracked'\n",
      "2023-02-08 03:11:00,142|WARNING|fed_avg|_process_aggregation|576:\n",
      "average a int value may lose precision: _key='layer3.1.bn2.num_batches_tracked'\n",
      "2023-02-08 03:11:00,143|WARNING|fed_avg|_process_aggregation|576:\n",
      "average a int value may lose precision: _key='layer4.0.bn1.num_batches_tracked'\n",
      "2023-02-08 03:11:00,144|WARNING|fed_avg|_process_aggregation|576:\n",
      "average a int value may lose precision: _key='layer4.0.bn2.num_batches_tracked'\n",
      "2023-02-08 03:11:00,145|WARNING|fed_avg|_process_aggregation|576:\n",
      "average a int value may lose precision: _key='layer4.0.downsample.1.num_batches_tracked'\n",
      "2023-02-08 03:11:00,146|WARNING|fed_avg|_process_aggregation|576:\n",
      "average a int value may lose precision: _key='layer4.1.bn1.num_batches_tracked'\n",
      "2023-02-08 03:11:00,147|WARNING|fed_avg|_process_aggregation|576:\n",
      "average a int value may lose precision: _key='layer4.1.bn2.num_batches_tracked'\n",
      "2023-02-08 03:11:00,153|INFO|scheduler|push_log|118:\n",
      "Obtained a new version of parameters.\n",
      "2023-02-08 03:11:00,153|INFO|scheduler|push_log|118:\n",
      "Begin to make a model test.\n",
      "2023-02-08 03:11:00,154|INFO|scheduler|push_log|118:\n",
      "Begin testing of epoch 1.\n",
      "2023-02-08 03:11:52,868|INFO|auto_fed_avg|run_test|412:\n",
      "Testing Average Loss: 0.5686\n",
      "2023-02-08 03:11:52,869|INFO|auto_fed_avg|run_test|413:\n",
      "Testing Correct Rate: 78.83\n",
      "2023-02-08 03:11:52,870|INFO|scheduler|push_log|118:\n",
      "Finished a round of test.\n",
      "2023-02-08 03:11:52,886|INFO|scheduler|push_log|118:\n",
      "The training of Round 1 complete.\n",
      "2023-02-08 03:11:52,886|INFO|scheduler|push_log|118:\n",
      "Begin validation of round 1.\n",
      "2023-02-08 03:12:19,543|INFO|auto_fed_avg|run_validation|439:\n",
      "Validation Average Loss: 0.5623\n",
      "2023-02-08 03:12:19,544|INFO|auto_fed_avg|run_validation|440:\n",
      "Validation Correct Rate: 78.80\n",
      "2023-02-08 03:12:19,545|INFO|scheduler|push_log|118:\n",
      "Validation result:\n",
      "avg_loss=0.5623\n",
      "correct_rate=78.80\n",
      "2023-02-08 03:12:19,559|INFO|scheduler|push_log|118:\n",
      "Validation result is better than last epoch.\n",
      "2023-02-08 03:12:19,607|INFO|scheduler|push_log|118:\n",
      "Saved latest parameters locally.\n",
      "2023-02-08 03:12:19,608|INFO|scheduler|push_log|118:\n",
      "Saved latest runtime context.\n",
      "2023-02-08 03:12:19,608|INFO|scheduler|push_log|118:\n",
      "Obtained the final results of task 11c12dc5-0473-4932-930e-ad56c69c5ea1\n",
      "2023-02-08 03:12:19,609|INFO|scheduler|push_log|118:\n",
      "Closing task 11c12dc5-0473-4932-930e-ad56c69c5ea1 ...\n",
      "2023-02-08 03:12:19,640|INFO|scheduler|push_log|118:\n",
      "Uploading task achievement and closing task ...\n",
      "2023-02-08 03:12:19,771|INFO|scheduler|push_log|118:\n",
      "Task achievement files are ready.\n",
      "2023-02-08 03:12:21,848|INFO|scheduler|push_log|118:\n",
      "Task 11c12dc5-0473-4932-930e-ad56c69c5ea1 closed. Byebye!\n"
     ]
    }
   ],
   "source": [
    "import logging\n",
    "from alphafed import logger\n",
    "\n",
    "# 关闭 DEBUG 日志，如果需要更详细的调试日志，可以将这一行注释掉\n",
    "logger.setLevel(logging.INFO)\n",
    "\n",
    "task_id = '11c12dc5-0473-4932-930e-ad56c69c5ea1'  # 必须与聚合方配置相同\n",
    "aggregator_id = 'd5f978fa-84f5-4724-b4f5-8abb317be4e2'  # 必须与聚合方配置相同\n",
    "col_id_1 = '4d43ea09-aad6-4beb-bc23-105e90ad5567'   # 必须与聚合方配置相同\n",
    "col_id_2 = 'ff2ce0a2-6983-45d6-8512-151e71710928'  # 必须与聚合方配置相同\n",
    "with mock_context(id=aggregator_id, nodes=[aggregator_id, col_id_1, col_id_2]):  # 在模拟调试环境中运行\n",
    "    auto_model.fine_tune(id=aggregator_id,\n",
    "                         task_id=task_id,\n",
    "                         dataset_dir='data/HAM10000',\n",
    "                         is_initiator=True)"
   ]
  },
  {
   "cell_type": "markdown",
   "metadata": {},
   "source": [
    "完成微调后测试推理。"
   ]
  },
  {
   "cell_type": "code",
   "execution_count": 5,
   "metadata": {},
   "outputs": [
    {
     "name": "stdout",
     "output_type": "stream",
     "text": [
      "推理结果为: MEL\n"
     ]
    }
   ],
   "source": [
    "image_file = 'data/HAM10000/ISIC_0033103.jpg'  # 随便选一张图片\n",
    "predict = auto_model(image_file)\n",
    "print(f'推理结果为: {predict}')"
   ]
  },
  {
   "cell_type": "code",
   "execution_count": null,
   "metadata": {},
   "outputs": [],
   "source": []
  }
 ],
 "metadata": {
  "kernelspec": {
   "display_name": "Python 3 (ipykernel)",
   "language": "python",
   "name": "python3"
  },
  "language_info": {
   "codemirror_mode": {
    "name": "ipython",
    "version": 3
   },
   "file_extension": ".py",
   "mimetype": "text/x-python",
   "name": "python",
   "nbconvert_exporter": "python",
   "pygments_lexer": "ipython3",
   "version": "3.10.6"
  },
  "vscode": {
   "interpreter": {
    "hash": "40d3a090f54c6569ab1632332b64b2c03c39dcf918b08424e98f38b5ae0af88f"
   }
  }
 },
 "nbformat": 4,
 "nbformat_minor": 4
}
