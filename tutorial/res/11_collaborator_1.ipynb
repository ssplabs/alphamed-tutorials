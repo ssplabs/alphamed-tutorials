{
 "cells": [
  {
   "cell_type": "code",
   "execution_count": 1,
   "metadata": {},
   "outputs": [
    {
     "name": "stderr",
     "output_type": "stream",
     "text": [
      "2023-02-08 02:39:34,641|INFO|pretrained|from_pretrained|34:\n",
      "Loading resouce from: `auto_model_fed_avg`.\n",
      "2023-02-08 02:39:34,642|DEBUG|pretrained|_load_model_obj|140:\n",
      "config.entry_file='auto_fed_avg.py'\n",
      "2023-02-08 02:39:34,643|DEBUG|pretrained|_load_model_obj|141:\n",
      "model_file='auto_model_fed_avg/auto_fed_avg.py'\n",
      "2023-02-08 02:39:34,718|DEBUG|pretrained|_load_model_obj|143:\n",
      "module=<module 'auto_fed_avg' from '/app/db/notebook_dir/user_07ec421f72/docs/tutorial/res/auto_model_fed_avg/auto_fed_avg.py'>\n",
      "2023-02-08 02:39:34,719|DEBUG|pretrained|_load_model_obj|145:\n",
      "model_class=<class 'auto_fed_avg.AutoResNetFedAvg'>\n",
      "2023-02-08 02:39:34,720|INFO|pretrained|_load_model_obj|147:\n",
      "Loading pretrained model complete.\n"
     ]
    }
   ],
   "source": [
    "from alphafed import mock_context\n",
    "from alphafed.auto_ml import from_pretrained\n",
    "\n",
    "auto_model = from_pretrained(resource_dir='auto_model_fed_avg')"
   ]
  },
  {
   "cell_type": "code",
   "execution_count": 2,
   "metadata": {},
   "outputs": [
    {
     "name": "stderr",
     "output_type": "stream",
     "text": [
      "2023-02-08 02:39:37,004|INFO|scheduler|push_log|118:\n",
      "Begin to validate local context.\n",
      "2023-02-08 02:39:37,004|INFO|scheduler|push_log|118:\n",
      "There are 7012 samples for training.\n",
      "2023-02-08 02:39:37,005|INFO|scheduler|push_log|118:\n",
      "Local context is ready.\n",
      "2023-02-08 02:39:37,006|INFO|scheduler|push_log|118:\n",
      "Node 4d43ea09-aad6-4beb-bc23-105e90ad5567 is up.\n",
      "2023-02-08 02:39:37,007|INFO|scheduler|push_log|118:\n",
      "Checking in the task ...\n",
      "2023-02-08 02:39:38,039|INFO|scheduler|push_log|118:\n",
      "Node 4d43ea09-aad6-4beb-bc23-105e90ad5567 have taken part in the task.\n",
      "2023-02-08 02:39:38,040|INFO|scheduler|push_log|118:\n",
      "Synchronizing round state ...\n",
      "2023-02-08 02:39:38,041|INFO|scheduler|push_log|118:\n",
      "Waiting for synchronizing state with the aggregator ...\n",
      "2023-02-08 02:40:00,114|INFO|scheduler|push_log|118:\n",
      "Successfully synchronized state with the aggregator.\n",
      "2023-02-08 02:40:00,115|INFO|scheduler|push_log|118:\n",
      "Successfully synchronized state in round 1\n",
      "2023-02-08 02:40:00,116|INFO|scheduler|push_log|118:\n",
      "Waiting for training of round 1 begin ...\n",
      "2023-02-08 02:40:01,124|INFO|scheduler|push_log|118:\n",
      "Training of round 1 begins.\n",
      "2023-02-08 02:40:01,125|INFO|scheduler|push_log|118:\n",
      "Waiting for receiving latest parameters from the aggregator ...\n",
      "2023-02-08 02:40:10,348|INFO|scheduler|push_log|118:\n",
      "Successfully received latest parameters.\n",
      "2023-02-08 02:40:10,352|INFO|scheduler|push_log|118:\n",
      "Saved latest parameters locally.\n",
      "2023-02-08 02:40:10,353|INFO|scheduler|push_log|118:\n",
      "Begin to run calculation ...\n",
      "2023-02-08 03:10:38,205|INFO|scheduler|push_log|118:\n",
      "Local calculation complete.\n",
      "2023-02-08 03:10:38,208|INFO|scheduler|push_log|118:\n",
      "Waiting for aggregation begin ...\n",
      "2023-02-08 03:10:38,248|INFO|scheduler|push_log|118:\n",
      "Pushing local update to the aggregator ...\n",
      "2023-02-08 03:10:41,258|INFO|scheduler|push_log|118:\n",
      "Successfully pushed local update to the aggregator.\n",
      "2023-02-08 03:10:41,259|INFO|scheduler|push_log|118:\n",
      "Waiting for closing signal of training round 1 ...\n",
      "2023-02-08 03:11:53,351|INFO|scheduler|push_log|118:\n",
      "ID: 4d43ea09-aad6-4beb-bc23-105e90ad5567 finished training task of round 1.\n",
      "2023-02-08 03:11:53,353|INFO|scheduler|push_log|118:\n",
      "Synchronizing round state ...\n",
      "2023-02-08 03:11:53,355|INFO|scheduler|push_log|118:\n",
      "Waiting for synchronizing state with the aggregator ...\n",
      "2023-02-08 03:12:20,402|INFO|fed_avg|_launch_process|352:\n",
      "training task complete\n"
     ]
    }
   ],
   "source": [
    "import logging\n",
    "from alphafed import logger\n",
    "\n",
    "# 关闭 DEBUG 日志，如果需要更详细的调试日志，可以将这一行注释掉\n",
    "logger.setLevel(logging.INFO)\n",
    "\n",
    "task_id = '11c12dc5-0473-4932-930e-ad56c69c5ea1'  # 必须与聚合方配置相同\n",
    "aggregator_id = 'd5f978fa-84f5-4724-b4f5-8abb317be4e2'  # 必须与聚合方配置相同\n",
    "col_id_1 = '4d43ea09-aad6-4beb-bc23-105e90ad5567'   # 必须与聚合方配置相同\n",
    "col_id_2 = 'ff2ce0a2-6983-45d6-8512-151e71710928'  # 必须与聚合方配置相同\n",
    "with mock_context(id=col_id_1, nodes=[aggregator_id, col_id_1, col_id_2]):  # 在模拟调试环境中运行\n",
    "    auto_model.fine_tune(id=col_id_1,\n",
    "                         task_id=task_id,\n",
    "                         dataset_dir='data/HAM10000',\n",
    "                         is_initiator=False)"
   ]
  },
  {
   "cell_type": "code",
   "execution_count": null,
   "metadata": {},
   "outputs": [],
   "source": []
  }
 ],
 "metadata": {
  "kernelspec": {
   "display_name": "Python 3 (ipykernel)",
   "language": "python",
   "name": "python3"
  },
  "language_info": {
   "codemirror_mode": {
    "name": "ipython",
    "version": 3
   },
   "file_extension": ".py",
   "mimetype": "text/x-python",
   "name": "python",
   "nbconvert_exporter": "python",
   "pygments_lexer": "ipython3",
   "version": "3.10.6"
  },
  "vscode": {
   "interpreter": {
    "hash": "40d3a090f54c6569ab1632332b64b2c03c39dcf918b08424e98f38b5ae0af88f"
   }
  }
 },
 "nbformat": 4,
 "nbformat_minor": 4
}
