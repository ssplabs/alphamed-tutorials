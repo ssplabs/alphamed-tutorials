{
 "cells": [
  {
   "cell_type": "code",
   "execution_count": 1,
   "metadata": {},
   "outputs": [
    {
     "name": "stdout",
     "output_type": "stream",
     "text": [
      "准备开始接收数据\n",
      "发送方一对一发送数据\n",
      "接收到 ca28a832-cc13-40a3-8292-dee4c960a6cb 发送的消息：`A message from sender.`\n",
      "发送方一对多发送数据\n",
      "接收到 ca28a832-cc13-40a3-8292-dee4c960a6cb 发送的消息：`A message from sender.`\n",
      "发送方与接收方 1 一起向我发送消息。\n",
      "接收到 98cf65a2-53dc-4ee4-b261-7cee17f42355 发送的消息：`A message from sender.`\n",
      "接收到 ca28a832-cc13-40a3-8292-dee4c960a6cb 发送的消息：`A message from sender.`\n"
     ]
    }
   ],
   "source": [
    "# 接收方 2 脚本\n",
    "from alphafed import mock_context\n",
    "from alphafed.contractor import ContractEvent, TaskMessageContractor\n",
    "from alphafed.data_channel import SharedFileDataChannel\n",
    "\n",
    "# 以下 ID 要与发送方设置相同\n",
    "task_id = 'b2f615fb-f2e7-4aa0-b5fb-a4fd68c6f38a'\n",
    "sender_id = 'ca28a832-cc13-40a3-8292-dee4c960a6cb'\n",
    "receiver_id_1 = '98cf65a2-53dc-4ee4-b261-7cee17f42355'\n",
    "receiver_id_2 = 'ff433f39-93cf-4bc8-8040-d4392a6fd139'\n",
    "receiver_ids = [receiver_id_1, receiver_id_2]\n",
    "contractor = TaskMessageContractor(task_id=task_id)\n",
    "data_channel = SharedFileDataChannel(contractor=contractor)\n",
    "\n",
    "def complementary_handler(event: ContractEvent):\n",
    "    # 处理其它事件\n",
    "    pass\n",
    "\n",
    "print('准备开始接收数据')\n",
    "with mock_context(id=receiver_id_2, nodes=[sender_id, *receiver_ids]):\n",
    "    print('发送方一对一发送数据')\n",
    "    source, data_stream = data_channel.receive_stream(receiver=receiver_id_2,\n",
    "                                                      source=sender_id,\n",
    "                                                      complementary_handler=complementary_handler)\n",
    "    print(f'接收到 {source} 发送的消息：`{data_stream.decode()}`')\n",
    "    print('发送方一对多发送数据')\n",
    "    # 接收方的接收方式是一样的\n",
    "    source, data_stream = data_channel.receive_stream(receiver=receiver_id_2,\n",
    "                                                      source=sender_id,\n",
    "                                                      complementary_handler=complementary_handler)\n",
    "    print(f'接收到 {source} 发送的消息：`{data_stream.decode()}`')\n",
    "\n",
    "    print('发送方与接收方 1 一起向我发送消息。')\n",
    "    data_dict = data_channel.batch_receive_stream(receiver=receiver_id_2,\n",
    "                                                  source_list=[sender_id, receiver_id_1],\n",
    "                                                  complementary_handler=complementary_handler,\n",
    "                                                  ensure_all_succ=True)\n",
    "    for _source, _data_stream in data_dict.items():\n",
    "        print(f'接收到 {_source} 发送的消息：`{_data_stream.decode()}`')"
   ]
  },
  {
   "cell_type": "code",
   "execution_count": null,
   "metadata": {},
   "outputs": [],
   "source": []
  }
 ],
 "metadata": {
  "kernelspec": {
   "display_name": "Python 3 (ipykernel)",
   "language": "python",
   "name": "python3"
  },
  "language_info": {
   "codemirror_mode": {
    "name": "ipython",
    "version": 3
   },
   "file_extension": ".py",
   "mimetype": "text/x-python",
   "name": "python",
   "nbconvert_exporter": "python",
   "pygments_lexer": "ipython3",
   "version": "3.10.6"
  },
  "vscode": {
   "interpreter": {
    "hash": "1f0c7602c82e39efa19a01e5e068584db7a6d17aff8711ab06660aac81377393"
   }
  }
 },
 "nbformat": 4,
 "nbformat_minor": 4
}
