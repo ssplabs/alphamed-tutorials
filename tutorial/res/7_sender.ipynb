{
 "cells": [
  {
   "cell_type": "code",
   "execution_count": 1,
   "metadata": {},
   "outputs": [
    {
     "name": "stdout",
     "output_type": "stream",
     "text": [
      "准备开始传输数据\n",
      "使用一对一的方式轮流传输 ...\n"
     ]
    },
    {
     "name": "stderr",
     "output_type": "stream",
     "text": [
      "2023-02-03 10:56:09,184|DEBUG|shared_file_data_channel|_do_send_stream|136:\n",
      "Sending data stream complete.\n"
     ]
    },
    {
     "name": "stdout",
     "output_type": "stream",
     "text": [
      "数据传输完成, 节点 98cf65a2-53dc-4ee4-b261-7cee17f42355 收到了数据\n"
     ]
    },
    {
     "name": "stderr",
     "output_type": "stream",
     "text": [
      "2023-02-03 10:56:14,303|DEBUG|shared_file_data_channel|_do_send_stream|136:\n",
      "Sending data stream complete.\n"
     ]
    },
    {
     "name": "stdout",
     "output_type": "stream",
     "text": [
      "数据传输完成, 节点 ff433f39-93cf-4bc8-8040-d4392a6fd139 收到了数据\n",
      "使用一对多的方式批量传输 ...\n"
     ]
    },
    {
     "name": "stderr",
     "output_type": "stream",
     "text": [
      "2023-02-03 10:56:15,533|DEBUG|shared_file_data_channel|_do_send_stream|136:\n",
      "Sending data stream complete.\n"
     ]
    },
    {
     "name": "stdout",
     "output_type": "stream",
     "text": [
      "数据传输完成, 节点 ['98cf65a2-53dc-4ee4-b261-7cee17f42355', 'ff433f39-93cf-4bc8-8040-d4392a6fd139'] 收到了数据\n",
      "与接收方 1 一起向接收方 2 发送消息。\n"
     ]
    },
    {
     "name": "stderr",
     "output_type": "stream",
     "text": [
      "2023-02-03 10:56:16,725|DEBUG|shared_file_data_channel|_do_send_stream|136:\n",
      "Sending data stream complete.\n"
     ]
    },
    {
     "name": "stdout",
     "output_type": "stream",
     "text": [
      "数据传输完成, 节点 ff433f39-93cf-4bc8-8040-d4392a6fd139 收到了数据\n"
     ]
    }
   ],
   "source": [
    "# 发送方脚本\n",
    "from alphafed import mock_context\n",
    "from alphafed.contractor import TaskMessageContractor\n",
    "from alphafed.data_channel import SharedFileDataChannel\n",
    "\n",
    "task_id = 'b2f615fb-f2e7-4aa0-b5fb-a4fd68c6f38a'  # 指定一个假想 ID\n",
    "sender_id = 'ca28a832-cc13-40a3-8292-dee4c960a6cb'  # 指定一个假想 ID\n",
    "receiver_id_1 = '98cf65a2-53dc-4ee4-b261-7cee17f42355'  # 指定一个假想 ID\n",
    "receiver_id_2 = 'ff433f39-93cf-4bc8-8040-d4392a6fd139'  # 指定一个假想 ID\n",
    "receiver_ids = [receiver_id_1, receiver_id_2]\n",
    "contractor = TaskMessageContractor(task_id=task_id)\n",
    "data_channel = SharedFileDataChannel(contractor=contractor)\n",
    "data_stream = 'A message from sender.'.encode()  # 数据要转为 bytes\n",
    "\n",
    "print('准备开始传输数据')\n",
    "with mock_context(id=sender_id, nodes=[sender_id, *receiver_ids]):\n",
    "    print('使用一对一的方式轮流传输 ...')\n",
    "    for _receiver in receiver_ids:\n",
    "        received = data_channel.send_stream(source=sender_id,\n",
    "                                            target=_receiver,\n",
    "                                            data_stream=data_stream)\n",
    "        print(f'数据传输完成, 节点 {received} 收到了数据')\n",
    "    print('使用一对多的方式批量传输 ...')\n",
    "    received = data_channel.batch_send_stream(source=sender_id,\n",
    "                                              target=receiver_ids,\n",
    "                                              data_stream=data_stream,\n",
    "                                              ensure_all_succ=True)\n",
    "    print(f'数据传输完成, 节点 {received} 收到了数据')\n",
    "\n",
    "    print('与接收方 1 一起向接收方 2 发送消息。')\n",
    "    received = data_channel.send_stream(source=sender_id,\n",
    "                                        target=receiver_id_2,\n",
    "                                        data_stream=data_stream)\n",
    "    print(f'数据传输完成, 节点 {received} 收到了数据')"
   ]
  },
  {
   "cell_type": "code",
   "execution_count": null,
   "metadata": {},
   "outputs": [],
   "source": []
  }
 ],
 "metadata": {
  "kernelspec": {
   "display_name": "Python 3 (ipykernel)",
   "language": "python",
   "name": "python3"
  },
  "language_info": {
   "codemirror_mode": {
    "name": "ipython",
    "version": 3
   },
   "file_extension": ".py",
   "mimetype": "text/x-python",
   "name": "python",
   "nbconvert_exporter": "python",
   "pygments_lexer": "ipython3",
   "version": "3.10.6"
  },
  "vscode": {
   "interpreter": {
    "hash": "1f0c7602c82e39efa19a01e5e068584db7a6d17aff8711ab06660aac81377393"
   }
  }
 },
 "nbformat": 4,
 "nbformat_minor": 4
}
